{
 "cells": [
  {
   "cell_type": "markdown",
   "metadata": {},
   "source": [
    "## Autism Thesis Notebook - This is the code which houses all the analysis done for my Master's Thesis \"Who Gets to be Autistic? Using Deep Learning to Address the Lack of Cultural Relativity Bias\" The notebook is divded into two sections that go through two seperate datasets, but the anaylsis is the same for each. I use a series of multivariate logitic regressions, t-tests, and neural networks to look at bias within autism screeners. The data comes from Dr. Fadi Thabtah https://fadifayez.com/autism-datasets/\n",
    "#### Github Link:https://github.com/zivzach/Data_Science_Portfolio/blob/master/notebooks/Autism_Cultural_Bias.ipynb"
   ]
  },
  {
   "cell_type": "markdown",
   "metadata": {},
   "source": [
    "<img src=\"https://github.com/zivzach/Data_Science_Portfolio/blob/master/Images/Poster.png?raw=true\" width=\"1200\" height=\"1200\" />"
   ]
  },
  {
   "cell_type": "markdown",
   "metadata": {},
   "source": [
    "## Using Convolutional Neural Networks To identify Brain Tumors Notebook - This notebook uses convolutional neural networks to classify MRI scans of brain tumors into malignant and benign cateogires. I run a conv2d net, squeeze net, and transference CNN to accomplish this to ~72% accuracy\n",
    "#### Github Link:https://github.com/zivzach/Data_Science_Portfolio/blob/master/notebooks/Convolutional_Neural_Network.ipynb"
   ]
  },
  {
   "cell_type": "markdown",
   "metadata": {},
   "source": [
    "<img src=\"https://github.com/zivzach/Data_Science_Portfolio/blob/master/Images/Convolution%20banner.png?raw=true\" width=\"200\" height=\"200\" />"
   ]
  },
  {
   "cell_type": "markdown",
   "metadata": {},
   "source": [
    "## Using Deep Neural Networks to Predict World Happiness Notebook - This notebook uses varied method of neural networks (and some supervised learning) to predict which countries are the happiest using data such as their life expectency and their level of social support.\n",
    "#### Github Link: https://github.com/zivzach/Data_Science_Portfolio/blob/master/notebooks/Deep_Neural_Network.ipynb"
   ]
  },
  {
   "cell_type": "markdown",
   "metadata": {},
   "source": [
    "<img src=\"https://github.com/zivzach/Data_Science_Portfolio/blob/master/Images/Neural%20Network%20Banner.png?raw=true\" width=\"500\" height=\"200\" />"
   ]
  },
  {
   "cell_type": "markdown",
   "metadata": {},
   "source": [
    "## Using Recurrent Neural Networks to Classify Text Notebook - This notebook uses different residual neural networks to predict the class of journal articles in varied media outlets. I run a simple embedded network, a stacked and unstacked long short term memory neural network (lstm), and a bidirectional lstm to classify.\n",
    "#### Github Link:https://github.com/zivzach/Data_Science_Portfolio/blob/master/notebooks/Long_Short_Term_Memory_Neural_Networks.ipynb"
   ]
  },
  {
   "cell_type": "markdown",
   "metadata": {},
   "source": [
    "<img src=\"https://github.com/zivzach/Data_Science_Portfolio/blob/master/Images/Recurrent%20Banner.png?raw=true\" width=\"400\" height=\"200\" />"
   ]
  },
  {
   "cell_type": "markdown",
   "metadata": {},
   "source": [
    "## Natural Language Processing Notebook This notebook using sentimtent analysis to classify reviews as positive or negative using a bag of words model. Bi grams and tri grams are analyzed to classify.\n",
    "#### Github Link:https://github.com/zivzach/Data_Science_Portfolio/blob/master/notebooks/TextAnalysis.ipynb"
   ]
  },
  {
   "cell_type": "markdown",
   "metadata": {},
   "source": [
    "<img src=\"https://github.com/zivzach/Data_Science_Portfolio/blob/master/Images/text%20analysis%20banner.png?raw=true\" width=\"700\" height=\"700\" />"
   ]
  },
  {
   "cell_type": "markdown",
   "metadata": {},
   "source": [
    "## Supervised Learning Notebook - Is a collection of supervised learning approaches. Data on California School districts are piped in and scaled to be fed into varied algrothims for prediction including: Linear Regressions, Ridge + Lasso Regressions, Support Vector Machines, Decision Tress, K-nearest Neighbour, and Random Forests. \n",
    "#### Github Link:https://github.com/zivzach/Data_Science_Portfolio/blob/master/notebooks/SupervisedLearning.ipynb"
   ]
  },
  {
   "cell_type": "markdown",
   "metadata": {},
   "source": [
    "<img src=\"https://github.com/zivzach/Data_Science_Portfolio/blob/master/Images/Supervised%20Banner.png?raw=true\" width=\"2000\" height=\"2000\" />"
   ]
  },
  {
   "cell_type": "markdown",
   "metadata": {},
   "source": [
    "## Unsupervised Learning Notebook - Contains a few unsuprived machine learning examples including K-mean Clustering, Hierarchal Clustering, and Principle Componenet Analysis.\n",
    "#### Github Link:https://github.com/zivzach/Data_Science_Portfolio/blob/master/notebooks/UnsupervisedLearning.ipynb"
   ]
  },
  {
   "cell_type": "markdown",
   "metadata": {},
   "source": [
    "<img src=\"https://github.com/zivzach/Data_Science_Portfolio/blob/master/Images/Unsupervised%20banner.png?raw=true\" width=\"500\" height=\"200\" />"
   ]
  },
  {
   "cell_type": "markdown",
   "metadata": {},
   "source": [
    "## Social Networking Graphing utilizing Girvan-Newman Grouping and Random Walk to detect communities of correlated users\n",
    "#### Github Link https://github.com/zivzach/Data_Science_Portfolio/blob/master/notebooks/Social_Network_Node_Graph.ipynb"
   ]
  },
  {
   "cell_type": "markdown",
   "metadata": {},
   "source": [
    "<img src=\"https://github.com/zivzach/Data_Science_Portfolio/blob/master/Images/Node_Banner.PNG?raw=true\" width=\"500\" height=\"200\" />"
   ]
  },
  {
   "cell_type": "markdown",
   "metadata": {},
   "source": [
    "## R-Studio code analyzing the affective polarization of different groups on the IH scale including a factorial analysis, linear regression, and mixed linear model\n",
    "#### Github Link https://github.com/zivzach/Data_Science_Portfolio/blob/master/notebooks/R-IH_Survey.nb.html"
   ]
  },
  {
   "cell_type": "markdown",
   "metadata": {},
   "source": [
    "<img src=\"https://github.com/zivzach/Data_Science_Portfolio/blob/master/Images/R%20Banner.PNG?raw=true\" width=\"500\" height=\"200\" />"
   ]
  },
  {
   "cell_type": "markdown",
   "metadata": {},
   "source": [
    "## Predicting Loss of under writing insurance policies using All States Kaggle Dataset\n",
    "#### Github Link https://github.com/zivzach/Data_Science_Portfolio/blob/master/notebooks/CatBoost_Kaggle.ipynb"
   ]
  },
  {
   "cell_type": "markdown",
   "metadata": {},
   "source": [
    "<img src=\"https://github.com/zivzach/Data_Science_Portfolio/blob/master/Images/Catboost_banner.png?raw=true\" width=\"500\" height=\"200\" />"
   ]
  },
  {
   "cell_type": "code",
   "execution_count": null,
   "metadata": {},
   "outputs": [],
   "source": []
  }
 ],
 "metadata": {
  "kernelspec": {
   "display_name": "Python 3 (ipykernel)",
   "language": "python",
   "name": "python3"
  },
  "language_info": {
   "codemirror_mode": {
    "name": "ipython",
    "version": 3
   },
   "file_extension": ".py",
   "mimetype": "text/x-python",
   "name": "python",
   "nbconvert_exporter": "python",
   "pygments_lexer": "ipython3",
   "version": "3.9.12"
  }
 },
 "nbformat": 4,
 "nbformat_minor": 4
}
