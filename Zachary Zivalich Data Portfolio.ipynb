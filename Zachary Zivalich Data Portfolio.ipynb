{
 "cells": [
  {
   "cell_type": "markdown",
   "metadata": {},
   "source": [
    "## Autism Thesis Notebook \n",
    "#### Github Link:https://github.com/zivzach/Data_Science_Portfolio/blob/master/notebooks/Autism_Cultural_Relativity.ipynb"
   ]
  },
  {
   "attachments": {},
   "cell_type": "markdown",
   "metadata": {},
   "source": [
    "<img src=\"https://github.com/zivzach/Data_Science_Portfolio/blob/master/Images/Autism%20banner.png?raw=true\" width=\"400\" height=\"200\" />"
   ]
  },
  {
   "cell_type": "markdown",
   "metadata": {},
   "source": [
    "## Using Convolutional Neural Networks To identify Brain Tumors Notebook \n",
    "#### Github Link:https://github.com/zivzach/Data_Science_Portfolio/blob/master/notebooks/Convolutional_Neural_Network.ipynb"
   ]
  },
  {
   "cell_type": "markdown",
   "metadata": {},
   "source": [
    "<img src=\"https://github.com/zivzach/Data_Science_Portfolio/blob/master/Images/Convolution%20banner.png?raw=true\" width=\"300\" height=\"200\" />"
   ]
  },
  {
   "cell_type": "markdown",
   "metadata": {},
   "source": [
    "## Using Deep Neural Networks to Predict World Happiness Notebook \n",
    "#### Github Link: https://github.com/zivzach/Data_Science_Portfolio/blob/master/notebooks/Deep_Neural_Network.ipynb"
   ]
  },
  {
   "cell_type": "markdown",
   "metadata": {},
   "source": [
    "<img src=\"https://github.com/zivzach/Data_Science_Portfolio/blob/master/Images/Neural%20Network%20Banner.png?raw=true\" width=\"500\" height=\"200\" />"
   ]
  },
  {
   "cell_type": "markdown",
   "metadata": {},
   "source": [
    "## Using Recurrent Neural Networks to Classify Text Notebook \n",
    "#### Github Link:https://github.com/zivzach/Data_Science_Portfolio/blob/master/notebooks/Long_Short_Term_Memory_Neural_Networks.ipynb"
   ]
  },
  {
   "cell_type": "markdown",
   "metadata": {},
   "source": [
    "<img src=\"https://github.com/zivzach/Data_Science_Portfolio/blob/master/Images/Recurrent%20Banner.png?raw=true\" width=\"500\" height=\"200\" />"
   ]
  },
  {
   "cell_type": "markdown",
   "metadata": {},
   "source": [
    "## Natural Language Processing Notebook \n",
    "#### Github Link:https://github.com/zivzach/Data_Science_Portfolio/blob/master/notebooks/TextAnalysis.ipynb"
   ]
  },
  {
   "cell_type": "markdown",
   "metadata": {},
   "source": [
    "<img src=\"https://github.com/zivzach/Data_Science_Portfolio/blob/master/Images/text%20analysis%20banner.png?raw=true\" width=\"700\" height=\"700\" />"
   ]
  },
  {
   "cell_type": "markdown",
   "metadata": {},
   "source": [
    "## Supervised Learning Notebook \n",
    "#### Github Link:https://github.com/zivzach/Data_Science_Portfolio/blob/master/notebooks/SupervisedLearning.ipynb"
   ]
  },
  {
   "cell_type": "markdown",
   "metadata": {},
   "source": [
    "<img src=\"https://github.com/zivzach/Data_Science_Portfolio/blob/master/Images/Supervised%20Banner.png?raw=true\" width=\"10000\" height=\"10000\" />"
   ]
  },
  {
   "cell_type": "markdown",
   "metadata": {},
   "source": [
    "## Unsupervised Learning Notebook \n",
    "#### Github Link:https://github.com/zivzach/Data_Science_Portfolio/blob/master/notebooks/UnsupervisedLearning.ipynb"
   ]
  },
  {
   "cell_type": "markdown",
   "metadata": {},
   "source": [
    "<img src=\"https://github.com/zivzach/Data_Science_Portfolio/blob/master/Images/Unsupervised%20banner.png?raw=true\" width=\"500\" height=\"200\" />"
   ]
  }
 ],
 "metadata": {
  "kernelspec": {
   "display_name": "Python 3",
   "language": "python",
   "name": "python3"
  },
  "language_info": {
   "codemirror_mode": {
    "name": "ipython",
    "version": 3
   },
   "file_extension": ".py",
   "mimetype": "text/x-python",
   "name": "python",
   "nbconvert_exporter": "python",
   "pygments_lexer": "ipython3",
   "version": "3.7.6"
  }
 },
 "nbformat": 4,
 "nbformat_minor": 4
}
