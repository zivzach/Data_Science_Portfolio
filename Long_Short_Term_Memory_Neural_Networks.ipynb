{
 "cells": [
  {
   "cell_type": "markdown",
   "metadata": {
    "colab": {
     "base_uri": "https://localhost:8080/",
     "height": 424
    },
    "colab_type": "code",
    "executionInfo": {
     "elapsed": 944,
     "status": "ok",
     "timestamp": 1588537568418,
     "user": {
      "displayName": "Michael D. Parrott",
      "photoUrl": "",
      "userId": "13070067452828357902"
     },
     "user_tz": 240
    },
    "id": "YoqSwgStNzT4",
    "outputId": "54026bd0-c8b5-43b2-c910-fb4b43666452"
   },
   "source": [
    "#### In this Notebook I explore the application of neural networks on natural language processing to categorize news articles. Below is a dataframe with some examples of the categories and news article headlines. The dataframe includes 2,225 articles."
   ]
  },
  {
   "cell_type": "code",
   "execution_count": 1,
   "metadata": {},
   "outputs": [
    {
     "data": {
      "text/html": [
       "<div>\n",
       "<style scoped>\n",
       "    .dataframe tbody tr th:only-of-type {\n",
       "        vertical-align: middle;\n",
       "    }\n",
       "\n",
       "    .dataframe tbody tr th {\n",
       "        vertical-align: top;\n",
       "    }\n",
       "\n",
       "    .dataframe thead th {\n",
       "        text-align: right;\n",
       "    }\n",
       "</style>\n",
       "<table border=\"1\" class=\"dataframe\">\n",
       "  <thead>\n",
       "    <tr style=\"text-align: right;\">\n",
       "      <th></th>\n",
       "      <th>category</th>\n",
       "      <th>text</th>\n",
       "    </tr>\n",
       "  </thead>\n",
       "  <tbody>\n",
       "    <tr>\n",
       "      <th>0</th>\n",
       "      <td>tech</td>\n",
       "      <td>tv future in the hands of viewers with home th...</td>\n",
       "    </tr>\n",
       "    <tr>\n",
       "      <th>1</th>\n",
       "      <td>business</td>\n",
       "      <td>worldcom boss  left books alone  former worldc...</td>\n",
       "    </tr>\n",
       "    <tr>\n",
       "      <th>2</th>\n",
       "      <td>sport</td>\n",
       "      <td>tigers wary of farrell  gamble  leicester say ...</td>\n",
       "    </tr>\n",
       "    <tr>\n",
       "      <th>3</th>\n",
       "      <td>sport</td>\n",
       "      <td>yeading face newcastle in fa cup premiership s...</td>\n",
       "    </tr>\n",
       "    <tr>\n",
       "      <th>4</th>\n",
       "      <td>entertainment</td>\n",
       "      <td>ocean s twelve raids box office ocean s twelve...</td>\n",
       "    </tr>\n",
       "    <tr>\n",
       "      <th>...</th>\n",
       "      <td>...</td>\n",
       "      <td>...</td>\n",
       "    </tr>\n",
       "    <tr>\n",
       "      <th>2220</th>\n",
       "      <td>business</td>\n",
       "      <td>cars pull down us retail figures us retail sal...</td>\n",
       "    </tr>\n",
       "    <tr>\n",
       "      <th>2221</th>\n",
       "      <td>politics</td>\n",
       "      <td>kilroy unveils immigration policy ex-chatshow ...</td>\n",
       "    </tr>\n",
       "    <tr>\n",
       "      <th>2222</th>\n",
       "      <td>entertainment</td>\n",
       "      <td>rem announce new glasgow concert us band rem h...</td>\n",
       "    </tr>\n",
       "    <tr>\n",
       "      <th>2223</th>\n",
       "      <td>politics</td>\n",
       "      <td>how political squabbles snowball it s become c...</td>\n",
       "    </tr>\n",
       "    <tr>\n",
       "      <th>2224</th>\n",
       "      <td>sport</td>\n",
       "      <td>souness delight at euro progress boss graeme s...</td>\n",
       "    </tr>\n",
       "  </tbody>\n",
       "</table>\n",
       "<p>2225 rows × 2 columns</p>\n",
       "</div>"
      ],
      "text/plain": [
       "           category                                               text\n",
       "0              tech  tv future in the hands of viewers with home th...\n",
       "1          business  worldcom boss  left books alone  former worldc...\n",
       "2             sport  tigers wary of farrell  gamble  leicester say ...\n",
       "3             sport  yeading face newcastle in fa cup premiership s...\n",
       "4     entertainment  ocean s twelve raids box office ocean s twelve...\n",
       "...             ...                                                ...\n",
       "2220       business  cars pull down us retail figures us retail sal...\n",
       "2221       politics  kilroy unveils immigration policy ex-chatshow ...\n",
       "2222  entertainment  rem announce new glasgow concert us band rem h...\n",
       "2223       politics  how political squabbles snowball it s become c...\n",
       "2224          sport  souness delight at euro progress boss graeme s...\n",
       "\n",
       "[2225 rows x 2 columns]"
      ]
     },
     "execution_count": 1,
     "metadata": {},
     "output_type": "execute_result"
    }
   ],
   "source": [
    "#Reading in dataframe\n",
    "import pandas as pd\n",
    "df = pd.read_csv(\"https://storage.googleapis.com/dataset-uploader/bbc/bbc-text.csv\")\n",
    "df"
   ]
  },
  {
   "cell_type": "code",
   "execution_count": 2,
   "metadata": {},
   "outputs": [
    {
     "data": {
      "text/plain": [
       "'tv future in the hands of viewers with home theatre systems  plasma high-definition tvs  and digital video recorders moving into the living room  the way people watch tv will be radically different in five years  time.  that is according to an expert panel which gathered at the annual consumer electronics show in las vegas to discuss how these new technologies will impact one of our favourite pastimes. with the us leading the trend  programmes and other content will be delivered to viewers via home networks  through cable  satellite  telecoms companies  and broadband service providers to front rooms and portable devices.  one of the most talked-about technologies of ces has been digital and personal video recorders (dvr and pvr). these set-top boxes  like the us s tivo and the uk s sky+ system  allow people to record  store  play  pause and forward wind tv programmes when they want.  essentially  the technology allows for much more personalised tv. they are also being built-in to high-definition tv sets  which are big business in japan and the us  but slower to take off in europe because of the lack of high-definition programming. not only can people forward wind through adverts  they can also forget about abiding by network and channel schedules  putting together their own a-la-carte entertainment. but some us networks and cable and satellite companies are worried about what it means for them in terms of advertising revenues as well as  brand identity  and viewer loyalty to channels. although the us leads in this technology at the moment  it is also a concern that is being raised in europe  particularly with the growing uptake of services like sky+.  what happens here today  we will see in nine months to a years  time in the uk   adam hume  the bbc broadcast s futurologist told the bbc news website. for the likes of the bbc  there are no issues of lost advertising revenue yet. it is a more pressing issue at the moment for commercial uk broadcasters  but brand loyalty is important for everyone.  we will be talking more about content brands rather than network brands   said tim hanlon  from brand communications firm starcom mediavest.  the reality is that with broadband connections  anybody can be the producer of content.  he added:  the challenge now is that it is hard to promote a programme with so much choice.   what this means  said stacey jolna  senior vice president of tv guide tv group  is that the way people find the content they want to watch has to be simplified for tv viewers. it means that networks  in us terms  or channels could take a leaf out of google s book and be the search engine of the future  instead of the scheduler to help people find what they want to watch. this kind of channel model might work for the younger ipod generation which is used to taking control of their gadgets and what they play on them. but it might not suit everyone  the panel recognised. older generations are more comfortable with familiar schedules and channel brands because they know what they are getting. they perhaps do not want so much of the choice put into their hands  mr hanlon suggested.  on the other end  you have the kids just out of diapers who are pushing buttons already - everything is possible and available to them   said mr hanlon.  ultimately  the consumer will tell the market they want.   of the 50 000 new gadgets and technologies being showcased at ces  many of them are about enhancing the tv-watching experience. high-definition tv sets are everywhere and many new models of lcd (liquid crystal display) tvs have been launched with dvr capability built into them  instead of being external boxes. one such example launched at the show is humax s 26-inch lcd tv with an 80-hour tivo dvr and dvd recorder. one of the us s biggest satellite tv companies  directtv  has even launched its own branded dvr at the show with 100-hours of recording capability  instant replay  and a search function. the set can pause and rewind tv for up to 90 hours. and microsoft chief bill gates announced in his pre-show keynote speech a partnership with tivo  called tivotogo  which means people can play recorded programmes on windows pcs and mobile devices. all these reflect the increasing trend of freeing up multimedia so that people can watch what they want  when they want.'"
      ]
     },
     "execution_count": 2,
     "metadata": {},
     "output_type": "execute_result"
    }
   ],
   "source": [
    "#Example of article\n",
    "df.iloc[0]['text']"
   ]
  },
  {
   "cell_type": "markdown",
   "metadata": {},
   "source": [
    "#### Below are the value counts for each category. Sports have the most articles and entertainment the least. Balncing the data may be necessary, but this is unlikely because there are more than 2. "
   ]
  },
  {
   "cell_type": "code",
   "execution_count": 3,
   "metadata": {},
   "outputs": [
    {
     "data": {
      "text/plain": [
       "sport            511\n",
       "business         510\n",
       "politics         417\n",
       "tech             401\n",
       "entertainment    386\n",
       "Name: category, dtype: int64"
      ]
     },
     "execution_count": 3,
     "metadata": {},
     "output_type": "execute_result"
    }
   ],
   "source": [
    "df['category'].value_counts()"
   ]
  },
  {
   "cell_type": "code",
   "execution_count": 4,
   "metadata": {},
   "outputs": [
    {
     "data": {
      "text/plain": [
       "Text(0, 0.5, 'Category Count')"
      ]
     },
     "execution_count": 4,
     "metadata": {},
     "output_type": "execute_result"
    },
    {
     "data": {
      "image/png": "[encoded data removed]",
      "text/plain": [
       "<Figure size 432x432 with 1 Axes>"
      ]
     },
     "metadata": {
      "needs_background": "light"
     },
     "output_type": "display_data"
    }
   ],
   "source": [
    "#visualization of the categories\n",
    "import matplotlib.pyplot as plt\n",
    "import seaborn as sns\n",
    "plt.figure(figsize=(6,6))\n",
    "sns.countplot(x='category', data=df)\n",
    "plt.xlabel(\"News Article Category\", fontsize=12)\n",
    "plt.ylabel(\"Category Count\")"
   ]
  },
  {
   "cell_type": "markdown",
   "metadata": {},
   "source": [
    "#### The neural networks will look at the emedding of the words in the sentence to extract meaning and then place the articiles into one of the fouur categories"
   ]
  },
  {
   "cell_type": "code",
   "execution_count": 5,
   "metadata": {},
   "outputs": [],
   "source": [
    "#assigning columns\n",
    "texts = df.text.values.astype('U')\n",
    "labels = df.category"
   ]
  },
  {
   "cell_type": "markdown",
   "metadata": {},
   "source": [
    "### 2) Preprocess your data such that each document in the data is represented as a sequence of equal length."
   ]
  },
  {
   "cell_type": "code",
   "execution_count": 6,
   "metadata": {},
   "outputs": [
    {
     "name": "stderr",
     "output_type": "stream",
     "text": [
      "Using TensorFlow backend.\n"
     ]
    }
   ],
   "source": [
    "#Preprcoessing the articile text into tokenzied data marix\n",
    "from keras.preprocessing.text import Tokenizer\n",
    "from keras.preprocessing.sequence import pad_sequences\n",
    "import numpy as np\n",
    "\n",
    "maxlen = 500\n",
    "training_samples = 1670\n",
    "validation_samples = 555\n",
    "max_words = 10000\n",
    "\n",
    "tokenizer = Tokenizer(num_words=max_words)\n",
    "tokenizer.fit_on_texts(texts)\n",
    "sequences = tokenizer.texts_to_sequences(texts)"
   ]
  },
  {
   "cell_type": "code",
   "execution_count": 7,
   "metadata": {},
   "outputs": [
    {
     "name": "stdout",
     "output_type": "stream",
     "text": [
      "Found 29726 unique tokens.\n"
     ]
    }
   ],
   "source": [
    "word_index = tokenizer.word_index\n",
    "print('Found %s unique tokens.' % len(word_index))"
   ]
  },
  {
   "cell_type": "code",
   "execution_count": 8,
   "metadata": {},
   "outputs": [
    {
     "name": "stdout",
     "output_type": "stream",
     "text": [
      "Shape of data tensor: (2225, 500)\n",
      "Shape of label tensor: (2225,)\n"
     ]
    }
   ],
   "source": [
    "data = pad_sequences(sequences, maxlen=maxlen)\n",
    "labels = np.asarray(labels)\n",
    "print('Shape of data tensor:', data.shape)\n",
    "print('Shape of label tensor:', labels.shape)"
   ]
  },
  {
   "cell_type": "code",
   "execution_count": 9,
   "metadata": {},
   "outputs": [],
   "source": [
    "indices = np.arange(data.shape[0])\n",
    "np.random.shuffle(indices)\n",
    "data = data[indices]\n",
    "labels = labels[indices]\n",
    "\n",
    "\n",
    "x_train = data[:training_samples] #200 words\n",
    "y_train = labels[:training_samples]\n",
    "x_test = data[:validation_samples]\n",
    "y_test = labels[:validation_samples]"
   ]
  },
  {
   "cell_type": "markdown",
   "metadata": {},
   "source": [
    "#### A model with an embedding layer and dense layers (but w/ no layers meant for sequential data)"
   ]
  },
  {
   "cell_type": "code",
   "execution_count": 25,
   "metadata": {},
   "outputs": [
    {
     "name": "stderr",
     "output_type": "stream",
     "text": [
      "C:\\Users\\zacha\\anaconda3\\lib\\site-packages\\tensorflow_core\\python\\framework\\indexed_slices.py:433: UserWarning: Converting sparse IndexedSlices to a dense Tensor of unknown shape. This may consume a large amount of memory.\n",
      "  \"Converting sparse IndexedSlices to a dense Tensor of unknown shape. \"\n"
     ]
    },
    {
     "name": "stdout",
     "output_type": "stream",
     "text": [
      "Train on 1670 samples, validate on 555 samples\n",
      "Epoch 1/10\n",
      "1670/1670 [==============================] - 0s 261us/step - loss: 1.5160 - acc: 0.3162 - val_loss: 1.3725 - val_acc: 0.4865\n",
      "Epoch 2/10\n",
      "1670/1670 [==============================] - 0s 287us/step - loss: 1.2761 - acc: 0.5401 - val_loss: 1.0929 - val_acc: 0.6937\n",
      "Epoch 3/10\n",
      "1670/1670 [==============================] - 0s 113us/step - loss: 0.9483 - acc: 0.7557 - val_loss: 0.7383 - val_acc: 0.8270\n",
      "Epoch 4/10\n",
      "1670/1670 [==============================] - 0s 196us/step - loss: 0.6111 - acc: 0.8946 - val_loss: 0.4366 - val_acc: 0.9423\n",
      "Epoch 5/10\n",
      "1670/1670 [==============================] - 0s 278us/step - loss: 0.3462 - acc: 0.9617 - val_loss: 0.2328 - val_acc: 0.9784\n",
      "Epoch 6/10\n",
      "1670/1670 [==============================] - 0s 159us/step - loss: 0.1787 - acc: 0.9892 - val_loss: 0.1189 - val_acc: 0.9928\n",
      "Epoch 7/10\n",
      "1670/1670 [==============================] - 0s 147us/step - loss: 0.0921 - acc: 0.9952 - val_loss: 0.0548 - val_acc: 1.0000\n",
      "Epoch 8/10\n",
      "1670/1670 [==============================] - 0s 280us/step - loss: 0.0465 - acc: 0.9988 - val_loss: 0.0263 - val_acc: 1.0000\n",
      "Epoch 9/10\n",
      "1670/1670 [==============================] - 0s 161us/step - loss: 0.0230 - acc: 0.9994 - val_loss: 0.0126 - val_acc: 1.0000\n",
      "Epoch 10/10\n",
      "1670/1670 [==============================] - 0s 288us/step - loss: 0.0113 - acc: 0.9994 - val_loss: 0.0064 - val_acc: 1.0000\n"
     ]
    }
   ],
   "source": [
    "from keras.layers import Dense, Embedding\n",
    "from keras.models import Sequential\n",
    "from keras.layers import Flatten, Dense\n",
    "\n",
    "model = Sequential()\n",
    "model.add(Embedding(10000, 8, input_length=maxlen))\n",
    "model.add(Flatten())\n",
    "model.add(Dense(5, activation='softmax'))\n",
    "\n",
    "model.compile(optimizer='rmsprop', loss='categorical_crossentropy', metrics=['acc'])\n",
    "\n",
    "model.fit(x_train, pd.get_dummies(y_train),\n",
    "                    epochs=10,\n",
    "                    batch_size=32,\n",
    "                   validation_data=(x_test, pd.get_dummies(y_test)))"
   ]
  },
  {
   "cell_type": "markdown",
   "metadata": {},
   "source": [
    "#### A model using an Embedding layer with Conv1d Layers"
   ]
  },
  {
   "cell_type": "code",
   "execution_count": 8,
   "metadata": {},
   "outputs": [
    {
     "name": "stderr",
     "output_type": "stream",
     "text": [
      "C:\\Users\\zacha\\anaconda3\\lib\\site-packages\\tensorflow_core\\python\\framework\\indexed_slices.py:433: UserWarning: Converting sparse IndexedSlices to a dense Tensor of unknown shape. This may consume a large amount of memory.\n",
      "  \"Converting sparse IndexedSlices to a dense Tensor of unknown shape. \"\n"
     ]
    },
    {
     "name": "stdout",
     "output_type": "stream",
     "text": [
      "Train on 1670 samples, validate on 555 samples\n",
      "Epoch 1/20\n",
      "1670/1670 [==============================] - 10s 6ms/step - loss: 1.5942 - acc: 0.2299 - val_loss: 1.5737 - val_acc: 0.3802\n",
      "Epoch 2/20\n",
      "1670/1670 [==============================] - 9s 6ms/step - loss: 1.5651 - acc: 0.3138 - val_loss: 1.5536 - val_acc: 0.4703\n",
      "Epoch 3/20\n",
      "1670/1670 [==============================] - 9s 5ms/step - loss: 1.5450 - acc: 0.3940 - val_loss: 1.5335 - val_acc: 0.5279\n",
      "Epoch 4/20\n",
      "1670/1670 [==============================] - 11s 6ms/step - loss: 1.5248 - acc: 0.4407 - val_loss: 1.5150 - val_acc: 0.4973\n",
      "Epoch 5/20\n",
      "1670/1670 [==============================] - 11s 7ms/step - loss: 1.5012 - acc: 0.4629 - val_loss: 1.4930 - val_acc: 0.4234\n",
      "Epoch 6/20\n",
      "1670/1670 [==============================] - 11s 7ms/step - loss: 1.4738 - acc: 0.4802 - val_loss: 1.4585 - val_acc: 0.5351\n",
      "Epoch 7/20\n",
      "1670/1670 [==============================] - 11s 7ms/step - loss: 1.4312 - acc: 0.5365 - val_loss: 1.3932 - val_acc: 0.5387\n",
      "Epoch 8/20\n",
      "1670/1670 [==============================] - 11s 6ms/step - loss: 1.3254 - acc: 0.5533 - val_loss: 1.2307 - val_acc: 0.5532\n",
      "Epoch 9/20\n",
      "1670/1670 [==============================] - 11s 7ms/step - loss: 1.0861 - acc: 0.6299 - val_loss: 0.9436 - val_acc: 0.5964\n",
      "Epoch 10/20\n",
      "1670/1670 [==============================] - 11s 6ms/step - loss: 0.8144 - acc: 0.7383 - val_loss: 0.6741 - val_acc: 0.8649\n",
      "Epoch 11/20\n",
      "1670/1670 [==============================] - 10s 6ms/step - loss: 0.5676 - acc: 0.8778 - val_loss: 0.4434 - val_acc: 0.8883\n",
      "Epoch 12/20\n",
      "1670/1670 [==============================] - 8s 5ms/step - loss: 0.3554 - acc: 0.9287 - val_loss: 0.2604 - val_acc: 0.9459\n",
      "Epoch 13/20\n",
      "1670/1670 [==============================] - 12s 7ms/step - loss: 0.2132 - acc: 0.9575 - val_loss: 0.1561 - val_acc: 0.9694\n",
      "Epoch 14/20\n",
      "1670/1670 [==============================] - 12s 7ms/step - loss: 0.1280 - acc: 0.9814 - val_loss: 0.0860 - val_acc: 0.9820\n",
      "Epoch 15/20\n",
      "1670/1670 [==============================] - 9s 5ms/step - loss: 0.0727 - acc: 0.9886 - val_loss: 0.0536 - val_acc: 0.9910\n",
      "Epoch 16/20\n",
      "1670/1670 [==============================] - 10s 6ms/step - loss: 0.0427 - acc: 0.9958 - val_loss: 0.0323 - val_acc: 0.9964\n",
      "Epoch 17/20\n",
      "1670/1670 [==============================] - 11s 7ms/step - loss: 0.0246 - acc: 0.9976 - val_loss: 0.0181 - val_acc: 0.9982\n",
      "Epoch 18/20\n",
      "1670/1670 [==============================] - 11s 6ms/step - loss: 0.0146 - acc: 0.9982 - val_loss: 0.0083 - val_acc: 0.9982\n",
      "Epoch 19/20\n",
      "1670/1670 [==============================] - 10s 6ms/step - loss: 0.0075 - acc: 1.0000 - val_loss: 0.0053 - val_acc: 1.0000\n",
      "Epoch 20/20\n",
      "1670/1670 [==============================] - 10s 6ms/step - loss: 0.0041 - acc: 0.9994 - val_loss: 0.0019 - val_acc: 1.0000\n"
     ]
    },
    {
     "data": {
      "text/plain": [
       "<keras.callbacks.callbacks.History at 0x1fc992e66c8>"
      ]
     },
     "execution_count": 8,
     "metadata": {},
     "output_type": "execute_result"
    }
   ],
   "source": [
    "from keras.models import Sequential\n",
    "from keras import layers\n",
    "from keras.optimizers import RMSprop\n",
    "from keras.layers import Dense, Embedding\n",
    "from keras.models import Sequential\n",
    "from keras.layers import Flatten, Dense\n",
    "\n",
    "\n",
    "\n",
    "model = Sequential()\n",
    "model.add(layers.Embedding(10000,128, input_length=maxlen))\n",
    "model.add(layers.Conv1D(64, 8, activation='relu')) \n",
    "model.add(layers.MaxPooling1D()) #\n",
    "model.add(layers.Conv1D(64, 8, activation='relu'))\n",
    "model.add(layers.MaxPooling1D()) #\n",
    "model.add(layers.Conv1D(64, 8, activation='relu'))\n",
    "model.add(layers.GlobalMaxPooling1D())\n",
    "model.add(Dense(5, activation='softmax'))\n",
    "\n",
    "\n",
    "model.compile(optimizer=RMSprop(lr=1e-4),\n",
    "              loss='categorical_crossentropy',\n",
    "              metrics=['acc'])\n",
    "\n",
    "model.fit(x_train, pd.get_dummies(y_train),\n",
    "                    epochs=20,\n",
    "                    batch_size=20,\n",
    "                   validation_data=(x_test, pd.get_dummies(y_test)))"
   ]
  },
  {
   "cell_type": "markdown",
   "metadata": {},
   "source": [
    "#### A model using an Embedding layer with one sequential layer"
   ]
  },
  {
   "cell_type": "code",
   "execution_count": 12,
   "metadata": {},
   "outputs": [
    {
     "name": "stderr",
     "output_type": "stream",
     "text": [
      "C:\\Users\\zacha\\anaconda3\\lib\\site-packages\\tensorflow_core\\python\\framework\\indexed_slices.py:433: UserWarning: Converting sparse IndexedSlices to a dense Tensor of unknown shape. This may consume a large amount of memory.\n",
      "  \"Converting sparse IndexedSlices to a dense Tensor of unknown shape. \"\n"
     ]
    },
    {
     "name": "stdout",
     "output_type": "stream",
     "text": [
      "Train on 1670 samples, validate on 555 samples\n",
      "Epoch 1/5\n",
      "1670/1670 [==============================] - 30s 18ms/step - loss: 1.6038 - acc: 0.2377 - val_loss: 1.5907 - val_acc: 0.3928\n",
      "Epoch 2/5\n",
      "1670/1670 [==============================] - 21s 13ms/step - loss: 1.5596 - acc: 0.3162 - val_loss: 1.5271 - val_acc: 0.2721\n",
      "Epoch 3/5\n",
      "1670/1670 [==============================] - 26s 15ms/step - loss: 1.3143 - acc: 0.4210 - val_loss: 1.2223 - val_acc: 0.4324\n",
      "Epoch 4/5\n",
      "1670/1670 [==============================] - 20s 12ms/step - loss: 1.1195 - acc: 0.4874 - val_loss: 1.1072 - val_acc: 0.5784\n",
      "Epoch 5/5\n",
      "1670/1670 [==============================] - 26s 16ms/step - loss: 0.9815 - acc: 0.6671 - val_loss: 1.2343 - val_acc: 0.6342\n"
     ]
    }
   ],
   "source": [
    "from keras.models import Sequential\n",
    "from keras import layers\n",
    "from keras.optimizers import RMSprop\n",
    "from keras.layers import Dense, Embedding\n",
    "from keras.models import Sequential\n",
    "from keras.layers import Flatten, Dense\n",
    "from keras.layers import SimpleRNN, LSTM\n",
    "from keras.models import Sequential\n",
    "from keras.layers import Embedding, SimpleRNN\n",
    "\n",
    "\n",
    "model = Sequential()\n",
    "model.add(Embedding(10000, 8, input_length=maxlen))\n",
    "model.add(LSTM(32))\n",
    "model.add(Dense(5, activation='softmax'))\n",
    "\n",
    "\n",
    "model.compile(optimizer='rmsprop', loss='categorical_crossentropy', metrics=['acc'])\n",
    "\n",
    "model.fit(x_train, pd.get_dummies(y_train),\n",
    "                    epochs=5,\n",
    "                    batch_size=32,\n",
    "                   validation_data=(x_test, pd.get_dummies(y_test)))\n"
   ]
  },
  {
   "cell_type": "markdown",
   "metadata": {},
   "source": [
    "####  A model using an Embedding layer with stacked sequential layers"
   ]
  },
  {
   "cell_type": "code",
   "execution_count": 16,
   "metadata": {},
   "outputs": [
    {
     "name": "stderr",
     "output_type": "stream",
     "text": [
      "C:\\Users\\zacha\\anaconda3\\lib\\site-packages\\tensorflow_core\\python\\framework\\indexed_slices.py:433: UserWarning: Converting sparse IndexedSlices to a dense Tensor of unknown shape. This may consume a large amount of memory.\n",
      "  \"Converting sparse IndexedSlices to a dense Tensor of unknown shape. \"\n"
     ]
    },
    {
     "name": "stdout",
     "output_type": "stream",
     "text": [
      "Train on 1670 samples, validate on 555 samples\n",
      "Epoch 1/10\n",
      "1670/1670 [==============================] - 124s 74ms/step - loss: 1.6027 - acc: 0.2539 - val_loss: 1.6474 - val_acc: 0.2847\n",
      "Epoch 2/10\n",
      "1670/1670 [==============================] - 112s 67ms/step - loss: 1.5778 - acc: 0.2551 - val_loss: 1.6208 - val_acc: 0.2198\n",
      "Epoch 3/10\n",
      "1670/1670 [==============================] - 111s 66ms/step - loss: 1.6082 - acc: 0.2335 - val_loss: 1.6039 - val_acc: 0.2486\n",
      "Epoch 4/10\n",
      "1670/1670 [==============================] - 92s 55ms/step - loss: 1.6007 - acc: 0.2251 - val_loss: 1.5821 - val_acc: 0.2342\n",
      "Epoch 5/10\n",
      "1670/1670 [==============================] - 93s 56ms/step - loss: 1.5744 - acc: 0.2503 - val_loss: 1.5428 - val_acc: 0.2721\n",
      "Epoch 6/10\n",
      "1670/1670 [==============================] - 93s 56ms/step - loss: 1.5542 - acc: 0.2970 - val_loss: 1.5189 - val_acc: 0.3027\n",
      "Epoch 7/10\n",
      "1670/1670 [==============================] - 91s 54ms/step - loss: 1.3850 - acc: 0.3868 - val_loss: 1.1751 - val_acc: 0.4685\n",
      "Epoch 8/10\n",
      "1670/1670 [==============================] - 86s 52ms/step - loss: 1.1439 - acc: 0.4910 - val_loss: 1.0643 - val_acc: 0.5622\n",
      "Epoch 9/10\n",
      "1670/1670 [==============================] - 76s 45ms/step - loss: 0.9288 - acc: 0.5928 - val_loss: 1.1718 - val_acc: 0.4847\n",
      "Epoch 10/10\n",
      "1670/1670 [==============================] - 74s 45ms/step - loss: 0.8083 - acc: 0.6174 - val_loss: 0.7088 - val_acc: 0.6847\n"
     ]
    }
   ],
   "source": [
    "from keras.models import Sequential\n",
    "from keras import layers\n",
    "from keras.optimizers import RMSprop\n",
    "from keras.layers import Dense, Embedding\n",
    "from keras.models import Sequential\n",
    "from keras.layers import Flatten, Dense\n",
    "from keras.layers import SimpleRNN, LSTM\n",
    "from keras.models import Sequential\n",
    "from keras.layers import Embedding, SimpleRNN\n",
    "\n",
    "\n",
    "model = Sequential()\n",
    "model.add(Embedding(10000, 8, input_length=maxlen))\n",
    "model.add(LSTM(32, return_sequences=True))\n",
    "model.add(LSTM(32, return_sequences=True))\n",
    "model.add(LSTM(32, return_sequences=True))\n",
    "model.add(LSTM(32))\n",
    "model.add(Dense(5, activation='softmax'))\n",
    "\n",
    "\n",
    "model.compile(optimizer='rmsprop', loss='categorical_crossentropy', metrics=['acc'])\n",
    "\n",
    "model.fit(x_train, pd.get_dummies(y_train),\n",
    "                    epochs=10,\n",
    "                    batch_size=32,\n",
    "                   validation_data=(x_test, pd.get_dummies(y_test)))\n"
   ]
  },
  {
   "cell_type": "markdown",
   "metadata": {},
   "source": [
    "#### A model using an Embedding layer with bidirectional sequential layers"
   ]
  },
  {
   "cell_type": "code",
   "execution_count": 17,
   "metadata": {},
   "outputs": [
    {
     "name": "stderr",
     "output_type": "stream",
     "text": [
      "C:\\Users\\zacha\\anaconda3\\lib\\site-packages\\tensorflow_core\\python\\framework\\indexed_slices.py:433: UserWarning: Converting sparse IndexedSlices to a dense Tensor of unknown shape. This may consume a large amount of memory.\n",
      "  \"Converting sparse IndexedSlices to a dense Tensor of unknown shape. \"\n"
     ]
    },
    {
     "name": "stdout",
     "output_type": "stream",
     "text": [
      "Train on 1670 samples, validate on 555 samples\n",
      "Epoch 1/10\n",
      "1670/1670 [==============================] - 32s 19ms/step - loss: 1.5775 - acc: 0.2713 - val_loss: 1.3935 - val_acc: 0.4829\n",
      "Epoch 2/10\n",
      "1670/1670 [==============================] - 29s 18ms/step - loss: 1.3655 - acc: 0.4503 - val_loss: 1.3788 - val_acc: 0.3946\n",
      "Epoch 3/10\n",
      "1670/1670 [==============================] - 32s 19ms/step - loss: 1.3386 - acc: 0.4437 - val_loss: 1.2566 - val_acc: 0.5640\n",
      "Epoch 4/10\n",
      "1670/1670 [==============================] - 31s 19ms/step - loss: 1.0963 - acc: 0.5503 - val_loss: 0.9898 - val_acc: 0.5820\n",
      "Epoch 5/10\n",
      "1670/1670 [==============================] - 25s 15ms/step - loss: 0.9824 - acc: 0.5778 - val_loss: 0.8876 - val_acc: 0.5946\n",
      "Epoch 6/10\n",
      "1670/1670 [==============================] - 4983s 3s/step - loss: 0.8521 - acc: 0.6437 - val_loss: 0.7001 - val_acc: 0.8000\n",
      "Epoch 7/10\n",
      "1670/1670 [==============================] - 15s 9ms/step - loss: 0.7103 - acc: 0.7749 - val_loss: 0.5915 - val_acc: 0.7622\n",
      "Epoch 8/10\n",
      "1670/1670 [==============================] - 12s 7ms/step - loss: 0.5265 - acc: 0.8431 - val_loss: 0.5958 - val_acc: 0.8144\n",
      "Epoch 9/10\n",
      "1670/1670 [==============================] - 11s 7ms/step - loss: 0.3124 - acc: 0.9371 - val_loss: 0.2908 - val_acc: 0.8991\n",
      "Epoch 10/10\n",
      "1670/1670 [==============================] - 11s 6ms/step - loss: 0.2622 - acc: 0.9216 - val_loss: 0.1047 - val_acc: 0.9802\n"
     ]
    }
   ],
   "source": [
    "from keras.models import Sequential\n",
    "from keras import layers\n",
    "from keras.optimizers import RMSprop\n",
    "from keras.layers import Dense, Embedding\n",
    "from keras.models import Sequential\n",
    "from keras.layers import Flatten, Dense\n",
    "from keras.layers import SimpleRNN, LSTM\n",
    "from keras.models import Sequential\n",
    "from keras.layers import Embedding, SimpleRNN\n",
    "\n",
    "\n",
    "\n",
    "model = Sequential()\n",
    "model.add(layers.Embedding(10000, 32))\n",
    "model.add(layers.Bidirectional(layers.LSTM(32)))\n",
    "model.add(Dense(5, activation='softmax'))\n",
    "\n",
    "model.compile(optimizer='rmsprop', loss='categorical_crossentropy', metrics=['acc'])\n",
    "\n",
    "model.fit(x_train, pd.get_dummies(y_train),\n",
    "                    epochs=10,\n",
    "                    batch_size=32,\n",
    "                   validation_data=(x_test, pd.get_dummies(y_test)))"
   ]
  },
  {
   "cell_type": "markdown",
   "metadata": {},
   "source": [
    "#### A model using an Embedding layer with bidirectional sequential layers and drop out"
   ]
  },
  {
   "cell_type": "code",
   "execution_count": 13,
   "metadata": {},
   "outputs": [
    {
     "name": "stderr",
     "output_type": "stream",
     "text": [
      "C:\\Users\\zacha\\anaconda3\\lib\\site-packages\\tensorflow_core\\python\\framework\\indexed_slices.py:433: UserWarning: Converting sparse IndexedSlices to a dense Tensor of unknown shape. This may consume a large amount of memory.\n",
      "  \"Converting sparse IndexedSlices to a dense Tensor of unknown shape. \"\n"
     ]
    },
    {
     "name": "stdout",
     "output_type": "stream",
     "text": [
      "Train on 1670 samples, validate on 555 samples\n",
      "Epoch 1/10\n",
      "1670/1670 [==============================] - 84s 50ms/step - loss: 1.4485 - acc: 0.3701 - val_loss: 1.1385 - val_acc: 0.5351\n",
      "Epoch 2/10\n",
      "1670/1670 [==============================] - 74s 44ms/step - loss: 1.0389 - acc: 0.5952 - val_loss: 0.7832 - val_acc: 0.6973\n",
      "Epoch 3/10\n",
      "1670/1670 [==============================] - 83s 50ms/step - loss: 0.7623 - acc: 0.6934 - val_loss: 0.7520 - val_acc: 0.6739\n",
      "Epoch 4/10\n",
      "1670/1670 [==============================] - 76s 46ms/step - loss: 0.6236 - acc: 0.7647 - val_loss: 0.4244 - val_acc: 0.8144\n",
      "Epoch 5/10\n",
      "1670/1670 [==============================] - 82s 49ms/step - loss: 0.3972 - acc: 0.8707 - val_loss: 0.5897 - val_acc: 0.7784\n",
      "Epoch 6/10\n",
      "1670/1670 [==============================] - 79s 47ms/step - loss: 0.4573 - acc: 0.8240 - val_loss: 0.2530 - val_acc: 0.9351\n",
      "Epoch 7/10\n",
      "1670/1670 [==============================] - 77s 46ms/step - loss: 0.2835 - acc: 0.9108 - val_loss: 0.0977 - val_acc: 0.9874\n",
      "Epoch 8/10\n",
      "1670/1670 [==============================] - 78s 47ms/step - loss: 0.2207 - acc: 0.9251 - val_loss: 0.2684 - val_acc: 0.9279\n",
      "Epoch 9/10\n",
      "1670/1670 [==============================] - 86s 51ms/step - loss: 0.1504 - acc: 0.9611 - val_loss: 0.0870 - val_acc: 0.9802\n",
      "Epoch 10/10\n",
      "1670/1670 [==============================] - 78s 47ms/step - loss: 0.2146 - acc: 0.9287 - val_loss: 0.0803 - val_acc: 0.9802\n"
     ]
    }
   ],
   "source": [
    "from keras.models import Sequential\n",
    "from keras import layers\n",
    "from keras.optimizers import RMSprop\n",
    "from keras.layers import Dense, Embedding\n",
    "from keras.models import Sequential\n",
    "from keras.layers import Flatten, Dense\n",
    "from keras.layers import SimpleRNN, LSTM\n",
    "from keras.models import Sequential\n",
    "from keras.layers import Embedding, SimpleRNN\n",
    "\n",
    "\n",
    "\n",
    "model = Sequential()\n",
    "model.add(layers.Embedding(10000, 32))\n",
    "model.add(layers.Bidirectional(layers.LSTM(32,dropout=0.2, return_sequences=True)))\n",
    "model.add(layers.Bidirectional(layers.LSTM(32,dropout=0.2, return_sequences=True)))\n",
    "model.add(layers.Bidirectional(layers.LSTM(32,dropout=0.2)))\n",
    "model.add(Dense(5, activation='softmax'))\n",
    "\n",
    "model.compile(optimizer='rmsprop', loss='categorical_crossentropy', metrics=['acc'])\n",
    "\n",
    "model.fit(x_train, pd.get_dummies(y_train),\n",
    "                    epochs=10,\n",
    "                    batch_size=32,\n",
    "                   validation_data=(x_test, pd.get_dummies(y_test)))"
   ]
  },
  {
   "cell_type": "code",
   "execution_count": 15,
   "metadata": {},
   "outputs": [
    {
     "data": {
      "image/png": "[encoded data removed]",
      "text/plain": [
       "<Figure size 432x288 with 1 Axes>"
      ]
     },
     "metadata": {
      "needs_background": "light"
     },
     "output_type": "display_data"
    }
   ],
   "source": [
    "plt.plot(history.history[\"loss\"], label=\"train\")\n",
    "plt.plot(history.history[\"val_loss\"], label=\"test\")\n",
    "plt.xlabel(\"accuracy\")\n",
    "plt.ylabel(\"loss\")\n",
    "plt.legend()\n",
    "plt.show()"
   ]
  },
  {
   "cell_type": "code",
   "execution_count": null,
   "metadata": {},
   "outputs": [],
   "source": []
  }
 ],
 "metadata": {
  "colab": {
   "authorship_tag": "ABX9TyPt/UwRdMuRlA1Q6rqKri/Y",
   "name": "BBC News Category Classification Mini-Hackathon.ipynb",
   "provenance": []
  },
  "kernelspec": {
   "display_name": "Python 3",
   "language": "python",
   "name": "python3"
  },
  "language_info": {
   "codemirror_mode": {
    "name": "ipython",
    "version": 3
   },
   "file_extension": ".py",
   "mimetype": "text/x-python",
   "name": "python",
   "nbconvert_exporter": "python",
   "pygments_lexer": "ipython3",
   "version": "3.7.6"
  }
 },
 "nbformat": 4,
 "nbformat_minor": 1
}
